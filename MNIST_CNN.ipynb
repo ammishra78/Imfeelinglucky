{
 "cells": [
  {
   "cell_type": "markdown",
   "metadata": {},
   "source": [
    "# Problem 3"
   ]
  },
  {
   "cell_type": "markdown",
   "metadata": {},
   "source": [
    "Use this notebook to write your code for problem 3."
   ]
  },
  {
   "cell_type": "code",
   "execution_count": 13,
   "metadata": {
    "collapsed": true
   },
   "outputs": [],
   "source": [
    "import numpy as np\n",
    "import matplotlib.pyplot as plt\n",
    "%matplotlib inline"
   ]
  },
  {
   "cell_type": "markdown",
   "metadata": {},
   "source": [
    "## 3D - Convolutional network"
   ]
  },
  {
   "cell_type": "markdown",
   "metadata": {},
   "source": [
    "As in problem 2, we have conveniently provided for your use code that loads, preprocesses, and deals with the uglies of the MNIST data."
   ]
  },
  {
   "cell_type": "code",
   "execution_count": 14,
   "metadata": {},
   "outputs": [],
   "source": [
    "# load MNIST data into Keras format\n",
    "import keras\n",
    "from keras.datasets import mnist\n",
    "\n",
    "(x_train, y_train), (x_test, y_test) = mnist.load_data()"
   ]
  },
  {
   "cell_type": "code",
   "execution_count": 15,
   "metadata": {},
   "outputs": [
    {
     "name": "stdout",
     "output_type": "stream",
     "text": [
      "(60000, 28, 28)\n",
      "(10000, 28, 28)\n"
     ]
    }
   ],
   "source": [
    "# look at the shapes\n",
    "print(x_train.shape)\n",
    "print(x_test.shape)"
   ]
  },
  {
   "cell_type": "code",
   "execution_count": 16,
   "metadata": {
    "collapsed": true
   },
   "outputs": [],
   "source": [
    "# we'll need to one-hot encode the labels\n",
    "y_train = keras.utils.np_utils.to_categorical(y_train)\n",
    "y_test = keras.utils.np_utils.to_categorical(y_test)"
   ]
  },
  {
   "cell_type": "code",
   "execution_count": 17,
   "metadata": {
    "collapsed": true
   },
   "outputs": [],
   "source": [
    "# don't forget to NORMALIZE\n",
    "x_train = np.divide(x_train, 255)\n",
    "x_test = np.divide(x_test, 255)"
   ]
  },
  {
   "cell_type": "code",
   "execution_count": 18,
   "metadata": {
    "collapsed": true
   },
   "outputs": [],
   "source": [
    "# we must reshape the X data (add a channel dimension)\n",
    "x_train = x_train.reshape(tuple(list(x_train.shape) + [1]))\n",
    "x_test = x_test.reshape(tuple(list(x_test.shape) + [1]))"
   ]
  },
  {
   "cell_type": "code",
   "execution_count": 19,
   "metadata": {},
   "outputs": [
    {
     "name": "stdout",
     "output_type": "stream",
     "text": [
      "(60000, 28, 28, 1)\n",
      "(10000, 28, 28, 1)\n"
     ]
    }
   ],
   "source": [
    "# look at the shapes\n",
    "print(x_train.shape)\n",
    "print(x_test.shape)"
   ]
  },
  {
   "cell_type": "code",
   "execution_count": 29,
   "metadata": {},
   "outputs": [],
   "source": [
    "from keras.models import Sequential\n",
    "from keras.layers import Dense, Activation, Dropout\n",
    "from keras.layers import Conv2D, MaxPooling2D, Flatten, BatchNormalization\n",
    "from keras import regularizers\n",
    "\n",
    "# sample model\n",
    "# note: what is the difference between 'same' and 'valid' padding?\n",
    "# Take a look at the outputs to understand the difference, or read the Keras documentation!\n",
    "model = Sequential()\n",
    "model.add(Conv2D(24, (3, 3), padding='same',\n",
    "                 input_shape=(28, 28, 1)))\n",
    "model.add(BatchNormalization())\n",
    "model.add(Activation('relu'))\n",
    "\n",
    "model.add(Conv2D(24, (3, 3), padding='same'))\n",
    "model.add(BatchNormalization())\n",
    "model.add(Activation('relu'))\n",
    "\n",
    "model.add(MaxPooling2D(pool_size=(2, 2)))\n",
    "model.add(Dropout(0.3))\n",
    "\n",
    "model.add(Flatten())\n",
    "model.add(Dense(64))\n",
    "model.add(Activation('relu'))\n",
    "model.add(Dense(10))\n",
    "model.add(Activation('softmax'))"
   ]
  },
  {
   "cell_type": "code",
   "execution_count": 30,
   "metadata": {},
   "outputs": [
    {
     "name": "stdout",
     "output_type": "stream",
     "text": [
      "<keras.layers.convolutional.Conv2D object at 0x000001859C0F2400>\n",
      "(None, 28, 28, 24)\n",
      "<keras.layers.normalization.BatchNormalization object at 0x000001859BFC5B00>\n",
      "(None, 28, 28, 24)\n",
      "<keras.layers.core.Activation object at 0x000001859C0FDEB8>\n",
      "(None, 28, 28, 24)\n",
      "<keras.layers.convolutional.Conv2D object at 0x000001859C0FDF60>\n",
      "(None, 28, 28, 24)\n",
      "<keras.layers.normalization.BatchNormalization object at 0x000001859BFC5B70>\n",
      "(None, 28, 28, 24)\n",
      "<keras.layers.core.Activation object at 0x000001859C1239E8>\n",
      "(None, 28, 28, 24)\n",
      "<keras.layers.pooling.MaxPooling2D object at 0x000001859C1A8940>\n",
      "(None, 14, 14, 24)\n",
      "<keras.layers.core.Dropout object at 0x000001859C0F2630>\n",
      "(None, 14, 14, 24)\n",
      "<keras.layers.core.Flatten object at 0x000001859C202DD8>\n",
      "(None, 4704)\n",
      "<keras.layers.core.Dense object at 0x000001859C1F9CF8>\n",
      "(None, 64)\n",
      "<keras.layers.core.Activation object at 0x000001859C2B66A0>\n",
      "(None, 64)\n",
      "<keras.layers.core.Dense object at 0x000001859C2C7E10>\n",
      "(None, 10)\n",
      "<keras.layers.core.Activation object at 0x000001859C2FDF60>\n",
      "(None, 10)\n"
     ]
    }
   ],
   "source": [
    "# why don't we take a look at the layers and outputs\n",
    "# note: `None` in the first dimension means it can take any batch_size!\n",
    "for i in range(len(model.layers)):\n",
    "    layer = model.layers[i]\n",
    "    print(layer)\n",
    "    print(layer.output_shape)"
   ]
  },
  {
   "cell_type": "code",
   "execution_count": 31,
   "metadata": {},
   "outputs": [
    {
     "data": {
      "text/plain": [
       "307410"
      ]
     },
     "execution_count": 31,
     "metadata": {},
     "output_type": "execute_result"
    }
   ],
   "source": [
    "# our model has some # of parameters:\n",
    "model.count_params()"
   ]
  },
  {
   "cell_type": "code",
   "execution_count": 33,
   "metadata": {
    "collapsed": true
   },
   "outputs": [],
   "source": [
    "# For a multi-class classification problem\n",
    "model.compile(optimizer='rmsprop',\n",
    "              loss='categorical_crossentropy',\n",
    "              metrics=['accuracy'])"
   ]
  },
  {
   "cell_type": "code",
   "execution_count": 35,
   "metadata": {},
   "outputs": [
    {
     "name": "stdout",
     "output_type": "stream",
     "text": [
      "Train on 60000 samples, validate on 10000 samples\n",
      "Epoch 1/10\n",
      "60000/60000 [==============================] - 495s 8ms/step - loss: 0.0655 - acc: 0.9815 - val_loss: 0.0844 - val_acc: 0.9768\n",
      "Epoch 2/10\n",
      "60000/60000 [==============================] - 468s 8ms/step - loss: 0.0489 - acc: 0.9854 - val_loss: 0.0411 - val_acc: 0.9883\n",
      "Epoch 3/10\n",
      "60000/60000 [==============================] - 411s 7ms/step - loss: 0.0441 - acc: 0.9872 - val_loss: 0.0488 - val_acc: 0.9855\n",
      "Epoch 4/10\n",
      "60000/60000 [==============================] - 410s 7ms/step - loss: 0.0444 - acc: 0.9874 - val_loss: 0.0398 - val_acc: 0.9886\n",
      "Epoch 5/10\n",
      "60000/60000 [==============================] - 410s 7ms/step - loss: 0.0415 - acc: 0.9884 - val_loss: 0.0419 - val_acc: 0.9878\n",
      "Epoch 6/10\n",
      "60000/60000 [==============================] - 411s 7ms/step - loss: 0.0421 - acc: 0.9883 - val_loss: 0.0351 - val_acc: 0.9895\n",
      "Epoch 7/10\n",
      "60000/60000 [==============================] - 411s 7ms/step - loss: 0.0424 - acc: 0.9882 - val_loss: 0.0454 - val_acc: 0.9885\n",
      "Epoch 8/10\n",
      "60000/60000 [==============================] - 411s 7ms/step - loss: 0.0396 - acc: 0.9890 - val_loss: 0.0418 - val_acc: 0.9890\n",
      "Epoch 9/10\n",
      "60000/60000 [==============================] - 410s 7ms/step - loss: 0.0399 - acc: 0.9895 - val_loss: 0.0413 - val_acc: 0.9890\n",
      "Epoch 10/10\n",
      "60000/60000 [==============================] - 412s 7ms/step - loss: 0.0393 - acc: 0.9897 - val_loss: 0.0405 - val_acc: 0.9900\n"
     ]
    }
   ],
   "source": [
    "# Train the model, iterating on the data in batches of 32 samples\n",
    "history = model.fit(x_train, y_train, epochs=10, batch_size=32,\n",
    "                    validation_data=(x_test, y_test))"
   ]
  },
  {
   "cell_type": "markdown",
   "metadata": {},
   "source": [
    "Above, we output the training loss/accuracy as well as the validation (here, the TEST) loss and accuracy. To confirm that these are right, we can explicitly print out the training and test losses/accuracies."
   ]
  },
  {
   "cell_type": "code",
   "execution_count": 36,
   "metadata": {},
   "outputs": [
    {
     "data": {
      "text/plain": [
       "['loss', 'acc']"
      ]
     },
     "execution_count": 36,
     "metadata": {},
     "output_type": "execute_result"
    }
   ],
   "source": [
    "# note that our model outputs two eval params:\n",
    "# 1. loss (categorical cross-entropy)\n",
    "# 2. accuracy\n",
    "model.metrics_names"
   ]
  },
  {
   "cell_type": "code",
   "execution_count": 37,
   "metadata": {
    "scrolled": true
   },
   "outputs": [
    {
     "name": "stdout",
     "output_type": "stream",
     "text": [
      "60000/60000 [==============================] - 156s 3ms/step\n"
     ]
    },
    {
     "data": {
      "text/plain": [
       "[0.018079070207305464, 0.99485]"
      ]
     },
     "execution_count": 37,
     "metadata": {},
     "output_type": "execute_result"
    }
   ],
   "source": [
    "model.evaluate(x=x_train, y=y_train)"
   ]
  },
  {
   "cell_type": "code",
   "execution_count": 38,
   "metadata": {},
   "outputs": [
    {
     "name": "stdout",
     "output_type": "stream",
     "text": [
      "10000/10000 [==============================] - 25s 3ms/step\n"
     ]
    },
    {
     "data": {
      "text/plain": [
       "[0.04054048867377223, 0.99]"
      ]
     },
     "execution_count": 38,
     "metadata": {},
     "output_type": "execute_result"
    }
   ],
   "source": [
    "model.evaluate(x=x_test, y=y_test)"
   ]
  },
  {
   "cell_type": "markdown",
   "metadata": {},
   "source": [
    "**Set the probabilities of your dropout layers to 10 equally-spaced values p ∈ [0, 1], train for 1 epoch, and\n",
    "report the final model accuracies for each**"
   ]
  },
  {
   "cell_type": "code",
   "execution_count": 40,
   "metadata": {},
   "outputs": [
    {
     "name": "stdout",
     "output_type": "stream",
     "text": [
      "Train on 60000 samples, validate on 10000 samples\n",
      "Epoch 1/1\n",
      "60000/60000 [==============================] - 441s 7ms/step - loss: 0.1684 - acc: 0.9549 - val_loss: 0.0517 - val_acc: 0.9834\n",
      "Dropout rate: 0.0\n",
      "10000/10000 [==============================] - 27s 3ms/step\n",
      "[0.05165868423196953, 0.9834]\n",
      "Train on 60000 samples, validate on 10000 samples\n",
      "Epoch 1/1\n",
      "60000/60000 [==============================] - 447s 7ms/step - loss: 0.1546 - acc: 0.9567 - val_loss: 0.0683 - val_acc: 0.9818\n",
      "Dropout rate: 0.1\n",
      "10000/10000 [==============================] - 27s 3ms/step\n",
      "[0.068304227259435, 0.9818]\n",
      "Train on 60000 samples, validate on 10000 samples\n",
      "Epoch 1/1\n",
      "60000/60000 [==============================] - 427s 7ms/step - loss: 0.1652 - acc: 0.9523 - val_loss: 0.0578 - val_acc: 0.9820\n",
      "Dropout rate: 0.2\n",
      "10000/10000 [==============================] - 28s 3ms/step\n",
      "[0.05782625220362097, 0.982]\n",
      "Train on 60000 samples, validate on 10000 samples\n",
      "Epoch 1/1\n",
      "60000/60000 [==============================] - 439s 7ms/step - loss: 0.1807 - acc: 0.9476 - val_loss: 0.0625 - val_acc: 0.9805\n",
      "Dropout rate: 0.30000000000000004\n",
      "10000/10000 [==============================] - 29s 3ms/step\n",
      "[0.06246391470642411, 0.9805]\n",
      "Train on 60000 samples, validate on 10000 samples\n",
      "Epoch 1/1\n",
      "60000/60000 [==============================] - 449s 7ms/step - loss: 0.2046 - acc: 0.9438 - val_loss: 0.0589 - val_acc: 0.9824\n",
      "Dropout rate: 0.4\n",
      "10000/10000 [==============================] - 29s 3ms/step\n",
      "[0.05893735353499651, 0.9824]\n",
      "Train on 60000 samples, validate on 10000 samples\n",
      "Epoch 1/1\n",
      "60000/60000 [==============================] - 441s 7ms/step - loss: 0.1905 - acc: 0.9450 - val_loss: 0.0595 - val_acc: 0.9810\n",
      "Dropout rate: 0.5\n",
      "10000/10000 [==============================] - 28s 3ms/step\n",
      "[0.05952274547966663, 0.981]\n",
      "Train on 60000 samples, validate on 10000 samples\n",
      "Epoch 1/1\n",
      "60000/60000 [==============================] - 434s 7ms/step - loss: 0.2249 - acc: 0.9346 - val_loss: 0.0656 - val_acc: 0.9797\n",
      "Dropout rate: 0.6000000000000001\n",
      "10000/10000 [==============================] - 30s 3ms/step\n",
      "[0.06562029218955431, 0.9797]\n",
      "Train on 60000 samples, validate on 10000 samples\n",
      "Epoch 1/1\n",
      "60000/60000 [==============================] - 437s 7ms/step - loss: 0.2613 - acc: 0.9245 - val_loss: 0.0648 - val_acc: 0.9805\n",
      "Dropout rate: 0.7000000000000001\n",
      "10000/10000 [==============================] - 30s 3ms/step\n",
      "[0.06480238866824074, 0.9805]\n",
      "Train on 60000 samples, validate on 10000 samples\n",
      "Epoch 1/1\n",
      "60000/60000 [==============================] - 480s 8ms/step - loss: 0.3509 - acc: 0.8940 - val_loss: 0.0773 - val_acc: 0.9752\n",
      "Dropout rate: 0.8\n",
      "10000/10000 [==============================] - 38s 4ms/step\n",
      "[0.07727866666261107, 0.9752]\n",
      "Train on 60000 samples, validate on 10000 samples\n",
      "Epoch 1/1\n",
      "60000/60000 [==============================] - 573s 10ms/step - loss: 0.5738 - acc: 0.8248 - val_loss: 0.1129 - val_acc: 0.9671\n",
      "Dropout rate: 0.9\n",
      "10000/10000 [==============================] - 37s 4ms/step\n",
      "[0.11288190861782059, 0.9671]\n"
     ]
    }
   ],
   "source": [
    "\n",
    "from keras.models import Sequential\n",
    "from keras.layers import Dense, Activation, Dropout\n",
    "from keras.layers import Conv2D, MaxPooling2D, Flatten, BatchNormalization\n",
    "from keras import regularizers\n",
    "\n",
    "dropouts = np.arange(0, 1, 0.1)\n",
    "\n",
    "for d in dropouts:\n",
    "    # sample model\n",
    "    # note: what is the difference between 'same' and 'valid' padding?\n",
    "    # Take a look at the outputs to understand the difference, or read the Keras documentation!\n",
    "    model = Sequential()\n",
    "    model.add(Conv2D(24, (3, 3), padding='same',\n",
    "                     input_shape=(28, 28, 1)))\n",
    "    model.add(BatchNormalization())\n",
    "    model.add(Activation('relu'))\n",
    "\n",
    "    model.add(Conv2D(24, (3, 3), padding='same'))\n",
    "    model.add(BatchNormalization())\n",
    "    model.add(Activation('relu'))\n",
    "\n",
    "    model.add(MaxPooling2D(pool_size=(2, 2)))\n",
    "    model.add(Dropout(d))\n",
    "\n",
    "    model.add(Flatten())\n",
    "    model.add(Dense(64))\n",
    "    model.add(Activation('relu'))\n",
    "    model.add(Dense(10))\n",
    "    model.add(Activation('softmax'))\n",
    "    \n",
    "        # For a multi-class classification problem\n",
    "    model.compile(optimizer='rmsprop',\n",
    "                  loss='categorical_crossentropy',\n",
    "                  metrics=['accuracy'])\n",
    "    \n",
    "        # Train the model, iterating on the data in batches of 32 samples\n",
    "    history = model.fit(x_train, y_train, epochs=1, batch_size=32,\n",
    "                        validation_data=(x_test, y_test))\n",
    "    print('Dropout rate: {}'.format(d))\n",
    "    print(model.evaluate(x=x_test, y=y_test))"
   ]
  },
  {
   "cell_type": "code",
   "execution_count": null,
   "metadata": {
    "collapsed": true
   },
   "outputs": [],
   "source": []
  }
 ],
 "metadata": {
  "anaconda-cloud": {},
  "kernelspec": {
   "display_name": "Python 3",
   "language": "python",
   "name": "python3"
  },
  "language_info": {
   "codemirror_mode": {
    "name": "ipython",
    "version": 3
   },
   "file_extension": ".py",
   "mimetype": "text/x-python",
   "name": "python",
   "nbconvert_exporter": "python",
   "pygments_lexer": "ipython3",
   "version": "3.7.1"
  }
 },
 "nbformat": 4,
 "nbformat_minor": 1
}
